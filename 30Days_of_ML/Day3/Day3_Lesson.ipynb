{
 "cells": [
  {
   "cell_type": "code",
   "execution_count": 2,
   "metadata": {
    "collapsed": true
   },
   "outputs": [
    {
     "name": "stdout",
     "output_type": "stream",
     "text": [
      "Case 3 is 8\n"
     ]
    }
   ],
   "source": [
    "def myfunction(num1, operator='*', num2=0):\n",
    "    '''\n",
    "    :param num1: Calculate num2 with operator\n",
    "    :param operator: Calculate Operator (plus or minus or multiply (Default is multiply)\n",
    "    :param num2: Calculate num1 with operator (Default is 0)\n",
    "    :return: num1 (operator) num2\n",
    "\n",
    "    >>> myFunction(num1, '+', num2)\n",
    "        num1 + num2\n",
    "    '''\n",
    "    if operator=='+':\n",
    "        return num1 + num2\n",
    "    elif operator=='-':\n",
    "        return num1 - num2\n",
    "    else:\n",
    "        return num1 * num2\n",
    "\n",
    "def output(func, num=0):\n",
    "    print(\"Case\", num, \"is\", func)\n",
    "\n",
    "output(myfunction(18, '-', 10), 3)\n",
    "\n"
   ]
  },
  {
   "cell_type": "code",
   "execution_count": 3,
   "outputs": [
    {
     "name": "stdout",
     "output_type": "stream",
     "text": [
      "Help on function myfunction in module __main__:\n",
      "\n",
      "myfunction(num1, operator='*', num2=0)\n",
      "    :param num1: Calculate num2 with operator\n",
      "    :param operator: Calculate Operator (plus or minus or multiply (Default is multiply)\n",
      "    :param num2: Calculate num1 with operator (Default is 0)\n",
      "    :return: num1 (operator) num2\n",
      "    \n",
      "    >>> myFunction(num1, '+', num2) \n",
      "        num1 + num2\n",
      "\n"
     ]
    }
   ],
   "source": [
    "help(myfunction)"
   ],
   "metadata": {
    "collapsed": false,
    "pycharm": {
     "name": "#%%\n"
    }
   }
  }
 ],
 "metadata": {
  "kernelspec": {
   "display_name": "Python 3",
   "language": "python",
   "name": "python3"
  },
  "language_info": {
   "codemirror_mode": {
    "name": "ipython",
    "version": 2
   },
   "file_extension": ".py",
   "mimetype": "text/x-python",
   "name": "python",
   "nbconvert_exporter": "python",
   "pygments_lexer": "ipython2",
   "version": "2.7.6"
  }
 },
 "nbformat": 4,
 "nbformat_minor": 0
}