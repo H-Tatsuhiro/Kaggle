{
 "cells": [
  {
   "cell_type": "code",
   "execution_count": 1,
   "metadata": {
    "collapsed": true
   },
   "outputs": [],
   "source": [
    "import pandas as pd\n",
    "reviews = pd.read_csv('./winemag-data-130k-v2.csv', index_col=0)\n",
    "pd.set_option('max_rows', 5)"
   ]
  },
  {
   "cell_type": "code",
   "execution_count": 2,
   "outputs": [
    {
     "data": {
      "text/plain": "         country                                        description  \\\n0          Italy  Aromas include tropical fruit, broom, brimston...   \n1       Portugal  This is ripe and fruity, a wine that is smooth...   \n...          ...                                                ...   \n129969    France  A dry style of Pinot Gris, this is crisp with ...   \n129970    France  Big, rich and off-dry, this is powered by inte...   \n\n                          designation  points  price           province  \\\n0                        Vulkà Bianco      87    NaN  Sicily & Sardinia   \n1                            Avidagos      87   15.0              Douro   \n...                               ...     ...    ...                ...   \n129969                            NaN      90   32.0             Alsace   \n129970  Lieu-dit Harth Cuvée Caroline      90   21.0             Alsace   \n\n       region_1 region_2    taster_name taster_twitter_handle  \\\n0          Etna      NaN  Kerin O’Keefe          @kerinokeefe   \n1           NaN      NaN     Roger Voss            @vossroger   \n...         ...      ...            ...                   ...   \n129969   Alsace      NaN     Roger Voss            @vossroger   \n129970   Alsace      NaN     Roger Voss            @vossroger   \n\n                                                    title         variety  \\\n0                       Nicosia 2013 Vulkà Bianco  (Etna)     White Blend   \n1           Quinta dos Avidagos 2011 Avidagos Red (Douro)  Portuguese Red   \n...                                                   ...             ...   \n129969      Domaine Marcel Deiss 2012 Pinot Gris (Alsace)      Pinot Gris   \n129970  Domaine Schoffit 2012 Lieu-dit Harth Cuvée Car...  Gewürztraminer   \n\n                      winery  \n0                    Nicosia  \n1        Quinta dos Avidagos  \n...                      ...  \n129969  Domaine Marcel Deiss  \n129970      Domaine Schoffit  \n\n[129971 rows x 13 columns]",
      "text/html": "<div>\n<style scoped>\n    .dataframe tbody tr th:only-of-type {\n        vertical-align: middle;\n    }\n\n    .dataframe tbody tr th {\n        vertical-align: top;\n    }\n\n    .dataframe thead th {\n        text-align: right;\n    }\n</style>\n<table border=\"1\" class=\"dataframe\">\n  <thead>\n    <tr style=\"text-align: right;\">\n      <th></th>\n      <th>country</th>\n      <th>description</th>\n      <th>designation</th>\n      <th>points</th>\n      <th>price</th>\n      <th>province</th>\n      <th>region_1</th>\n      <th>region_2</th>\n      <th>taster_name</th>\n      <th>taster_twitter_handle</th>\n      <th>title</th>\n      <th>variety</th>\n      <th>winery</th>\n    </tr>\n  </thead>\n  <tbody>\n    <tr>\n      <th>0</th>\n      <td>Italy</td>\n      <td>Aromas include tropical fruit, broom, brimston...</td>\n      <td>Vulkà Bianco</td>\n      <td>87</td>\n      <td>NaN</td>\n      <td>Sicily &amp; Sardinia</td>\n      <td>Etna</td>\n      <td>NaN</td>\n      <td>Kerin O’Keefe</td>\n      <td>@kerinokeefe</td>\n      <td>Nicosia 2013 Vulkà Bianco  (Etna)</td>\n      <td>White Blend</td>\n      <td>Nicosia</td>\n    </tr>\n    <tr>\n      <th>1</th>\n      <td>Portugal</td>\n      <td>This is ripe and fruity, a wine that is smooth...</td>\n      <td>Avidagos</td>\n      <td>87</td>\n      <td>15.0</td>\n      <td>Douro</td>\n      <td>NaN</td>\n      <td>NaN</td>\n      <td>Roger Voss</td>\n      <td>@vossroger</td>\n      <td>Quinta dos Avidagos 2011 Avidagos Red (Douro)</td>\n      <td>Portuguese Red</td>\n      <td>Quinta dos Avidagos</td>\n    </tr>\n    <tr>\n      <th>...</th>\n      <td>...</td>\n      <td>...</td>\n      <td>...</td>\n      <td>...</td>\n      <td>...</td>\n      <td>...</td>\n      <td>...</td>\n      <td>...</td>\n      <td>...</td>\n      <td>...</td>\n      <td>...</td>\n      <td>...</td>\n      <td>...</td>\n    </tr>\n    <tr>\n      <th>129969</th>\n      <td>France</td>\n      <td>A dry style of Pinot Gris, this is crisp with ...</td>\n      <td>NaN</td>\n      <td>90</td>\n      <td>32.0</td>\n      <td>Alsace</td>\n      <td>Alsace</td>\n      <td>NaN</td>\n      <td>Roger Voss</td>\n      <td>@vossroger</td>\n      <td>Domaine Marcel Deiss 2012 Pinot Gris (Alsace)</td>\n      <td>Pinot Gris</td>\n      <td>Domaine Marcel Deiss</td>\n    </tr>\n    <tr>\n      <th>129970</th>\n      <td>France</td>\n      <td>Big, rich and off-dry, this is powered by inte...</td>\n      <td>Lieu-dit Harth Cuvée Caroline</td>\n      <td>90</td>\n      <td>21.0</td>\n      <td>Alsace</td>\n      <td>Alsace</td>\n      <td>NaN</td>\n      <td>Roger Voss</td>\n      <td>@vossroger</td>\n      <td>Domaine Schoffit 2012 Lieu-dit Harth Cuvée Car...</td>\n      <td>Gewürztraminer</td>\n      <td>Domaine Schoffit</td>\n    </tr>\n  </tbody>\n</table>\n<p>129971 rows × 13 columns</p>\n</div>"
     },
     "execution_count": 2,
     "metadata": {},
     "output_type": "execute_result"
    }
   ],
   "source": [
    "reviews"
   ],
   "metadata": {
    "collapsed": false,
    "pycharm": {
     "name": "#%%\n"
    }
   }
  },
  {
   "cell_type": "code",
   "execution_count": 3,
   "outputs": [
    {
     "data": {
      "text/plain": "0            Italy\n1         Portugal\n            ...   \n129969      France\n129970      France\nName: country, Length: 129971, dtype: object"
     },
     "execution_count": 3,
     "metadata": {},
     "output_type": "execute_result"
    }
   ],
   "source": [
    "reviews.country"
   ],
   "metadata": {
    "collapsed": false,
    "pycharm": {
     "name": "#%%\n"
    }
   }
  },
  {
   "cell_type": "code",
   "execution_count": 4,
   "outputs": [
    {
     "data": {
      "text/plain": "0            Italy\n1         Portugal\n            ...   \n129969      France\n129970      France\nName: country, Length: 129971, dtype: object"
     },
     "execution_count": 4,
     "metadata": {},
     "output_type": "execute_result"
    }
   ],
   "source": [
    "reviews['country']"
   ],
   "metadata": {
    "collapsed": false,
    "pycharm": {
     "name": "#%%\n"
    }
   }
  },
  {
   "cell_type": "code",
   "execution_count": 5,
   "outputs": [
    {
     "data": {
      "text/plain": "'Italy'"
     },
     "execution_count": 5,
     "metadata": {},
     "output_type": "execute_result"
    }
   ],
   "source": [
    "reviews['country'][0]"
   ],
   "metadata": {
    "collapsed": false,
    "pycharm": {
     "name": "#%%\n"
    }
   }
  },
  {
   "cell_type": "code",
   "execution_count": 6,
   "outputs": [
    {
     "data": {
      "text/plain": "country                                                    Italy\ndescription    Aromas include tropical fruit, broom, brimston...\n                                     ...                        \nvariety                                              White Blend\nwinery                                                   Nicosia\nName: 0, Length: 13, dtype: object"
     },
     "execution_count": 6,
     "metadata": {},
     "output_type": "execute_result"
    }
   ],
   "source": [
    "reviews.iloc[0]"
   ],
   "metadata": {
    "collapsed": false,
    "pycharm": {
     "name": "#%%\n"
    }
   }
  },
  {
   "cell_type": "code",
   "execution_count": 7,
   "outputs": [
    {
     "data": {
      "text/plain": "0            Italy\n1         Portugal\n            ...   \n129969      France\n129970      France\nName: country, Length: 129971, dtype: object"
     },
     "execution_count": 7,
     "metadata": {},
     "output_type": "execute_result"
    }
   ],
   "source": [
    "reviews.iloc[:, 0]"
   ],
   "metadata": {
    "collapsed": false,
    "pycharm": {
     "name": "#%%\n"
    }
   }
  },
  {
   "cell_type": "code",
   "execution_count": 8,
   "outputs": [
    {
     "data": {
      "text/plain": "0       Italy\n1    Portugal\n2          US\nName: country, dtype: object"
     },
     "execution_count": 8,
     "metadata": {},
     "output_type": "execute_result"
    }
   ],
   "source": [
    "reviews.iloc[:3, 0]"
   ],
   "metadata": {
    "collapsed": false,
    "pycharm": {
     "name": "#%%\n"
    }
   }
  },
  {
   "cell_type": "code",
   "execution_count": 9,
   "outputs": [
    {
     "data": {
      "text/plain": "1    Portugal\n2          US\nName: country, dtype: object"
     },
     "execution_count": 9,
     "metadata": {},
     "output_type": "execute_result"
    }
   ],
   "source": [
    "reviews.iloc[1:3, 0]"
   ],
   "metadata": {
    "collapsed": false,
    "pycharm": {
     "name": "#%%\n"
    }
   }
  },
  {
   "cell_type": "code",
   "execution_count": 10,
   "outputs": [
    {
     "data": {
      "text/plain": "0       Italy\n1    Portugal\n2          US\nName: country, dtype: object"
     },
     "execution_count": 10,
     "metadata": {},
     "output_type": "execute_result"
    }
   ],
   "source": [
    "reviews.iloc[[0, 1, 2], 0]"
   ],
   "metadata": {
    "collapsed": false,
    "pycharm": {
     "name": "#%%\n"
    }
   }
  },
  {
   "cell_type": "code",
   "execution_count": 12,
   "outputs": [
    {
     "data": {
      "text/plain": "        country                                        description  \\\n129966  Germany  Notes of honeysuckle and cantaloupe sweeten th...   \n129967       US  Citation is given as much as a decade of bottl...   \n129968   France  Well-drained gravel soil gives this wine its c...   \n129969   France  A dry style of Pinot Gris, this is crisp with ...   \n129970   France  Big, rich and off-dry, this is powered by inte...   \n\n                                   designation  points  price province  \\\n129966  Brauneberger Juffer-Sonnenuhr Spätlese      90   28.0    Mosel   \n129967                                     NaN      90   75.0   Oregon   \n129968                                   Kritt      90   30.0   Alsace   \n129969                                     NaN      90   32.0   Alsace   \n129970           Lieu-dit Harth Cuvée Caroline      90   21.0   Alsace   \n\n       region_1      region_2         taster_name taster_twitter_handle  \\\n129966      NaN           NaN  Anna Lee C. Iijima                   NaN   \n129967   Oregon  Oregon Other        Paul Gregutt           @paulgwine    \n129968   Alsace           NaN          Roger Voss            @vossroger   \n129969   Alsace           NaN          Roger Voss            @vossroger   \n129970   Alsace           NaN          Roger Voss            @vossroger   \n\n                                                    title         variety  \\\n129966  Dr. H. Thanisch (Erben Müller-Burggraef) 2013 ...        Riesling   \n129967                  Citation 2004 Pinot Noir (Oregon)      Pinot Noir   \n129968  Domaine Gresser 2013 Kritt Gewurztraminer (Als...  Gewürztraminer   \n129969      Domaine Marcel Deiss 2012 Pinot Gris (Alsace)      Pinot Gris   \n129970  Domaine Schoffit 2012 Lieu-dit Harth Cuvée Car...  Gewürztraminer   \n\n                                          winery  \n129966  Dr. H. Thanisch (Erben Müller-Burggraef)  \n129967                                  Citation  \n129968                           Domaine Gresser  \n129969                      Domaine Marcel Deiss  \n129970                          Domaine Schoffit  ",
      "text/html": "<div>\n<style scoped>\n    .dataframe tbody tr th:only-of-type {\n        vertical-align: middle;\n    }\n\n    .dataframe tbody tr th {\n        vertical-align: top;\n    }\n\n    .dataframe thead th {\n        text-align: right;\n    }\n</style>\n<table border=\"1\" class=\"dataframe\">\n  <thead>\n    <tr style=\"text-align: right;\">\n      <th></th>\n      <th>country</th>\n      <th>description</th>\n      <th>designation</th>\n      <th>points</th>\n      <th>price</th>\n      <th>province</th>\n      <th>region_1</th>\n      <th>region_2</th>\n      <th>taster_name</th>\n      <th>taster_twitter_handle</th>\n      <th>title</th>\n      <th>variety</th>\n      <th>winery</th>\n    </tr>\n  </thead>\n  <tbody>\n    <tr>\n      <th>129966</th>\n      <td>Germany</td>\n      <td>Notes of honeysuckle and cantaloupe sweeten th...</td>\n      <td>Brauneberger Juffer-Sonnenuhr Spätlese</td>\n      <td>90</td>\n      <td>28.0</td>\n      <td>Mosel</td>\n      <td>NaN</td>\n      <td>NaN</td>\n      <td>Anna Lee C. Iijima</td>\n      <td>NaN</td>\n      <td>Dr. H. Thanisch (Erben Müller-Burggraef) 2013 ...</td>\n      <td>Riesling</td>\n      <td>Dr. H. Thanisch (Erben Müller-Burggraef)</td>\n    </tr>\n    <tr>\n      <th>129967</th>\n      <td>US</td>\n      <td>Citation is given as much as a decade of bottl...</td>\n      <td>NaN</td>\n      <td>90</td>\n      <td>75.0</td>\n      <td>Oregon</td>\n      <td>Oregon</td>\n      <td>Oregon Other</td>\n      <td>Paul Gregutt</td>\n      <td>@paulgwine</td>\n      <td>Citation 2004 Pinot Noir (Oregon)</td>\n      <td>Pinot Noir</td>\n      <td>Citation</td>\n    </tr>\n    <tr>\n      <th>129968</th>\n      <td>France</td>\n      <td>Well-drained gravel soil gives this wine its c...</td>\n      <td>Kritt</td>\n      <td>90</td>\n      <td>30.0</td>\n      <td>Alsace</td>\n      <td>Alsace</td>\n      <td>NaN</td>\n      <td>Roger Voss</td>\n      <td>@vossroger</td>\n      <td>Domaine Gresser 2013 Kritt Gewurztraminer (Als...</td>\n      <td>Gewürztraminer</td>\n      <td>Domaine Gresser</td>\n    </tr>\n    <tr>\n      <th>129969</th>\n      <td>France</td>\n      <td>A dry style of Pinot Gris, this is crisp with ...</td>\n      <td>NaN</td>\n      <td>90</td>\n      <td>32.0</td>\n      <td>Alsace</td>\n      <td>Alsace</td>\n      <td>NaN</td>\n      <td>Roger Voss</td>\n      <td>@vossroger</td>\n      <td>Domaine Marcel Deiss 2012 Pinot Gris (Alsace)</td>\n      <td>Pinot Gris</td>\n      <td>Domaine Marcel Deiss</td>\n    </tr>\n    <tr>\n      <th>129970</th>\n      <td>France</td>\n      <td>Big, rich and off-dry, this is powered by inte...</td>\n      <td>Lieu-dit Harth Cuvée Caroline</td>\n      <td>90</td>\n      <td>21.0</td>\n      <td>Alsace</td>\n      <td>Alsace</td>\n      <td>NaN</td>\n      <td>Roger Voss</td>\n      <td>@vossroger</td>\n      <td>Domaine Schoffit 2012 Lieu-dit Harth Cuvée Car...</td>\n      <td>Gewürztraminer</td>\n      <td>Domaine Schoffit</td>\n    </tr>\n  </tbody>\n</table>\n</div>"
     },
     "execution_count": 12,
     "metadata": {},
     "output_type": "execute_result"
    }
   ],
   "source": [
    "reviews.iloc[-5:]"
   ],
   "metadata": {
    "collapsed": false,
    "pycharm": {
     "name": "#%%\n"
    }
   }
  },
  {
   "cell_type": "code",
   "execution_count": 13,
   "outputs": [
    {
     "data": {
      "text/plain": "'Italy'"
     },
     "execution_count": 13,
     "metadata": {},
     "output_type": "execute_result"
    }
   ],
   "source": [
    "reviews.loc[0, 'country']"
   ],
   "metadata": {
    "collapsed": false,
    "pycharm": {
     "name": "#%%\n"
    }
   }
  },
  {
   "cell_type": "code",
   "execution_count": 14,
   "outputs": [
    {
     "data": {
      "text/plain": "          taster_name taster_twitter_handle  points\n0       Kerin O’Keefe          @kerinokeefe      87\n1          Roger Voss            @vossroger      87\n...               ...                   ...     ...\n129969     Roger Voss            @vossroger      90\n129970     Roger Voss            @vossroger      90\n\n[129971 rows x 3 columns]",
      "text/html": "<div>\n<style scoped>\n    .dataframe tbody tr th:only-of-type {\n        vertical-align: middle;\n    }\n\n    .dataframe tbody tr th {\n        vertical-align: top;\n    }\n\n    .dataframe thead th {\n        text-align: right;\n    }\n</style>\n<table border=\"1\" class=\"dataframe\">\n  <thead>\n    <tr style=\"text-align: right;\">\n      <th></th>\n      <th>taster_name</th>\n      <th>taster_twitter_handle</th>\n      <th>points</th>\n    </tr>\n  </thead>\n  <tbody>\n    <tr>\n      <th>0</th>\n      <td>Kerin O’Keefe</td>\n      <td>@kerinokeefe</td>\n      <td>87</td>\n    </tr>\n    <tr>\n      <th>1</th>\n      <td>Roger Voss</td>\n      <td>@vossroger</td>\n      <td>87</td>\n    </tr>\n    <tr>\n      <th>...</th>\n      <td>...</td>\n      <td>...</td>\n      <td>...</td>\n    </tr>\n    <tr>\n      <th>129969</th>\n      <td>Roger Voss</td>\n      <td>@vossroger</td>\n      <td>90</td>\n    </tr>\n    <tr>\n      <th>129970</th>\n      <td>Roger Voss</td>\n      <td>@vossroger</td>\n      <td>90</td>\n    </tr>\n  </tbody>\n</table>\n<p>129971 rows × 3 columns</p>\n</div>"
     },
     "execution_count": 14,
     "metadata": {},
     "output_type": "execute_result"
    }
   ],
   "source": [
    "reviews.loc[:, ['taster_name', 'taster_twitter_handle', 'points']]"
   ],
   "metadata": {
    "collapsed": false,
    "pycharm": {
     "name": "#%%\n"
    }
   }
  },
  {
   "cell_type": "code",
   "execution_count": 15,
   "outputs": [
    {
     "data": {
      "text/plain": "                                                     country  \\\ntitle                                                          \nNicosia 2013 Vulkà Bianco  (Etna)                      Italy   \nQuinta dos Avidagos 2011 Avidagos Red (Douro)       Portugal   \n...                                                      ...   \nDomaine Marcel Deiss 2012 Pinot Gris (Alsace)         France   \nDomaine Schoffit 2012 Lieu-dit Harth Cuvée Caro...    France   \n\n                                                                                          description  \\\ntitle                                                                                                   \nNicosia 2013 Vulkà Bianco  (Etna)                   Aromas include tropical fruit, broom, brimston...   \nQuinta dos Avidagos 2011 Avidagos Red (Douro)       This is ripe and fruity, a wine that is smooth...   \n...                                                                                               ...   \nDomaine Marcel Deiss 2012 Pinot Gris (Alsace)       A dry style of Pinot Gris, this is crisp with ...   \nDomaine Schoffit 2012 Lieu-dit Harth Cuvée Caro...  Big, rich and off-dry, this is powered by inte...   \n\n                                                                      designation  \\\ntitle                                                                               \nNicosia 2013 Vulkà Bianco  (Etna)                                    Vulkà Bianco   \nQuinta dos Avidagos 2011 Avidagos Red (Douro)                            Avidagos   \n...                                                                           ...   \nDomaine Marcel Deiss 2012 Pinot Gris (Alsace)                                 NaN   \nDomaine Schoffit 2012 Lieu-dit Harth Cuvée Caro...  Lieu-dit Harth Cuvée Caroline   \n\n                                                    points  price  \\\ntitle                                                               \nNicosia 2013 Vulkà Bianco  (Etna)                       87    NaN   \nQuinta dos Avidagos 2011 Avidagos Red (Douro)           87   15.0   \n...                                                    ...    ...   \nDomaine Marcel Deiss 2012 Pinot Gris (Alsace)           90   32.0   \nDomaine Schoffit 2012 Lieu-dit Harth Cuvée Caro...      90   21.0   \n\n                                                             province  \\\ntitle                                                                   \nNicosia 2013 Vulkà Bianco  (Etna)                   Sicily & Sardinia   \nQuinta dos Avidagos 2011 Avidagos Red (Douro)                   Douro   \n...                                                               ...   \nDomaine Marcel Deiss 2012 Pinot Gris (Alsace)                  Alsace   \nDomaine Schoffit 2012 Lieu-dit Harth Cuvée Caro...             Alsace   \n\n                                                   region_1 region_2  \\\ntitle                                                                  \nNicosia 2013 Vulkà Bianco  (Etna)                      Etna      NaN   \nQuinta dos Avidagos 2011 Avidagos Red (Douro)           NaN      NaN   \n...                                                     ...      ...   \nDomaine Marcel Deiss 2012 Pinot Gris (Alsace)        Alsace      NaN   \nDomaine Schoffit 2012 Lieu-dit Harth Cuvée Caro...   Alsace      NaN   \n\n                                                      taster_name  \\\ntitle                                                               \nNicosia 2013 Vulkà Bianco  (Etna)                   Kerin O’Keefe   \nQuinta dos Avidagos 2011 Avidagos Red (Douro)          Roger Voss   \n...                                                           ...   \nDomaine Marcel Deiss 2012 Pinot Gris (Alsace)          Roger Voss   \nDomaine Schoffit 2012 Lieu-dit Harth Cuvée Caro...     Roger Voss   \n\n                                                   taster_twitter_handle  \\\ntitle                                                                      \nNicosia 2013 Vulkà Bianco  (Etna)                           @kerinokeefe   \nQuinta dos Avidagos 2011 Avidagos Red (Douro)                 @vossroger   \n...                                                                  ...   \nDomaine Marcel Deiss 2012 Pinot Gris (Alsace)                 @vossroger   \nDomaine Schoffit 2012 Lieu-dit Harth Cuvée Caro...            @vossroger   \n\n                                                           variety  \\\ntitle                                                                \nNicosia 2013 Vulkà Bianco  (Etna)                      White Blend   \nQuinta dos Avidagos 2011 Avidagos Red (Douro)       Portuguese Red   \n...                                                            ...   \nDomaine Marcel Deiss 2012 Pinot Gris (Alsace)           Pinot Gris   \nDomaine Schoffit 2012 Lieu-dit Harth Cuvée Caro...  Gewürztraminer   \n\n                                                                  winery  \ntitle                                                                     \nNicosia 2013 Vulkà Bianco  (Etna)                                Nicosia  \nQuinta dos Avidagos 2011 Avidagos Red (Douro)        Quinta dos Avidagos  \n...                                                                  ...  \nDomaine Marcel Deiss 2012 Pinot Gris (Alsace)       Domaine Marcel Deiss  \nDomaine Schoffit 2012 Lieu-dit Harth Cuvée Caro...      Domaine Schoffit  \n\n[129971 rows x 12 columns]",
      "text/html": "<div>\n<style scoped>\n    .dataframe tbody tr th:only-of-type {\n        vertical-align: middle;\n    }\n\n    .dataframe tbody tr th {\n        vertical-align: top;\n    }\n\n    .dataframe thead th {\n        text-align: right;\n    }\n</style>\n<table border=\"1\" class=\"dataframe\">\n  <thead>\n    <tr style=\"text-align: right;\">\n      <th></th>\n      <th>country</th>\n      <th>description</th>\n      <th>designation</th>\n      <th>points</th>\n      <th>price</th>\n      <th>province</th>\n      <th>region_1</th>\n      <th>region_2</th>\n      <th>taster_name</th>\n      <th>taster_twitter_handle</th>\n      <th>variety</th>\n      <th>winery</th>\n    </tr>\n    <tr>\n      <th>title</th>\n      <th></th>\n      <th></th>\n      <th></th>\n      <th></th>\n      <th></th>\n      <th></th>\n      <th></th>\n      <th></th>\n      <th></th>\n      <th></th>\n      <th></th>\n      <th></th>\n    </tr>\n  </thead>\n  <tbody>\n    <tr>\n      <th>Nicosia 2013 Vulkà Bianco  (Etna)</th>\n      <td>Italy</td>\n      <td>Aromas include tropical fruit, broom, brimston...</td>\n      <td>Vulkà Bianco</td>\n      <td>87</td>\n      <td>NaN</td>\n      <td>Sicily &amp; Sardinia</td>\n      <td>Etna</td>\n      <td>NaN</td>\n      <td>Kerin O’Keefe</td>\n      <td>@kerinokeefe</td>\n      <td>White Blend</td>\n      <td>Nicosia</td>\n    </tr>\n    <tr>\n      <th>Quinta dos Avidagos 2011 Avidagos Red (Douro)</th>\n      <td>Portugal</td>\n      <td>This is ripe and fruity, a wine that is smooth...</td>\n      <td>Avidagos</td>\n      <td>87</td>\n      <td>15.0</td>\n      <td>Douro</td>\n      <td>NaN</td>\n      <td>NaN</td>\n      <td>Roger Voss</td>\n      <td>@vossroger</td>\n      <td>Portuguese Red</td>\n      <td>Quinta dos Avidagos</td>\n    </tr>\n    <tr>\n      <th>...</th>\n      <td>...</td>\n      <td>...</td>\n      <td>...</td>\n      <td>...</td>\n      <td>...</td>\n      <td>...</td>\n      <td>...</td>\n      <td>...</td>\n      <td>...</td>\n      <td>...</td>\n      <td>...</td>\n      <td>...</td>\n    </tr>\n    <tr>\n      <th>Domaine Marcel Deiss 2012 Pinot Gris (Alsace)</th>\n      <td>France</td>\n      <td>A dry style of Pinot Gris, this is crisp with ...</td>\n      <td>NaN</td>\n      <td>90</td>\n      <td>32.0</td>\n      <td>Alsace</td>\n      <td>Alsace</td>\n      <td>NaN</td>\n      <td>Roger Voss</td>\n      <td>@vossroger</td>\n      <td>Pinot Gris</td>\n      <td>Domaine Marcel Deiss</td>\n    </tr>\n    <tr>\n      <th>Domaine Schoffit 2012 Lieu-dit Harth Cuvée Caroline Gewurztraminer (Alsace)</th>\n      <td>France</td>\n      <td>Big, rich and off-dry, this is powered by inte...</td>\n      <td>Lieu-dit Harth Cuvée Caroline</td>\n      <td>90</td>\n      <td>21.0</td>\n      <td>Alsace</td>\n      <td>Alsace</td>\n      <td>NaN</td>\n      <td>Roger Voss</td>\n      <td>@vossroger</td>\n      <td>Gewürztraminer</td>\n      <td>Domaine Schoffit</td>\n    </tr>\n  </tbody>\n</table>\n<p>129971 rows × 12 columns</p>\n</div>"
     },
     "execution_count": 15,
     "metadata": {},
     "output_type": "execute_result"
    }
   ],
   "source": [
    "reviews.set_index(\"title\")"
   ],
   "metadata": {
    "collapsed": false,
    "pycharm": {
     "name": "#%%\n"
    }
   }
  },
  {
   "cell_type": "code",
   "execution_count": 16,
   "outputs": [
    {
     "data": {
      "text/plain": "0          True\n1         False\n          ...  \n129969    False\n129970    False\nName: country, Length: 129971, dtype: bool"
     },
     "execution_count": 16,
     "metadata": {},
     "output_type": "execute_result"
    }
   ],
   "source": [
    "reviews.country == 'Italy'"
   ],
   "metadata": {
    "collapsed": false,
    "pycharm": {
     "name": "#%%\n"
    }
   }
  },
  {
   "cell_type": "code",
   "execution_count": 18,
   "outputs": [
    {
     "data": {
      "text/plain": "       country                                        description  \\\n120      Italy  Slightly backward, particularly given the vint...   \n130      Italy  At the first it was quite muted and subdued, b...   \n...        ...                                                ...   \n129961   Italy  Intense aromas of wild cherry, baking spice, t...   \n129962   Italy  Blackberry, cassis, grilled herb and toasted a...   \n\n                      designation  points  price           province region_1  \\\n120           Bricco Rocche Prapó      92   70.0           Piedmont   Barolo   \n130         Bricco Rocche Brunate      91   70.0           Piedmont   Barolo   \n...                           ...     ...    ...                ...      ...   \n129961                        NaN      90   30.0  Sicily & Sardinia  Sicilia   \n129962  Sàgana Tenuta San Giacomo      90   40.0  Sicily & Sardinia  Sicilia   \n\n       region_2    taster_name taster_twitter_handle  \\\n120         NaN            NaN                   NaN   \n130         NaN            NaN                   NaN   \n...         ...            ...                   ...   \n129961      NaN  Kerin O’Keefe          @kerinokeefe   \n129962      NaN  Kerin O’Keefe          @kerinokeefe   \n\n                                                    title       variety  \\\n120            Ceretto 2003 Bricco Rocche Prapó  (Barolo)      Nebbiolo   \n130          Ceretto 2003 Bricco Rocche Brunate  (Barolo)      Nebbiolo   \n...                                                   ...           ...   \n129961                        COS 2013 Frappato (Sicilia)      Frappato   \n129962  Cusumano 2012 Sàgana Tenuta San Giacomo Nero d...  Nero d'Avola   \n\n          winery  \n120      Ceretto  \n130      Ceretto  \n...          ...  \n129961       COS  \n129962  Cusumano  \n\n[6648 rows x 13 columns]",
      "text/html": "<div>\n<style scoped>\n    .dataframe tbody tr th:only-of-type {\n        vertical-align: middle;\n    }\n\n    .dataframe tbody tr th {\n        vertical-align: top;\n    }\n\n    .dataframe thead th {\n        text-align: right;\n    }\n</style>\n<table border=\"1\" class=\"dataframe\">\n  <thead>\n    <tr style=\"text-align: right;\">\n      <th></th>\n      <th>country</th>\n      <th>description</th>\n      <th>designation</th>\n      <th>points</th>\n      <th>price</th>\n      <th>province</th>\n      <th>region_1</th>\n      <th>region_2</th>\n      <th>taster_name</th>\n      <th>taster_twitter_handle</th>\n      <th>title</th>\n      <th>variety</th>\n      <th>winery</th>\n    </tr>\n  </thead>\n  <tbody>\n    <tr>\n      <th>120</th>\n      <td>Italy</td>\n      <td>Slightly backward, particularly given the vint...</td>\n      <td>Bricco Rocche Prapó</td>\n      <td>92</td>\n      <td>70.0</td>\n      <td>Piedmont</td>\n      <td>Barolo</td>\n      <td>NaN</td>\n      <td>NaN</td>\n      <td>NaN</td>\n      <td>Ceretto 2003 Bricco Rocche Prapó  (Barolo)</td>\n      <td>Nebbiolo</td>\n      <td>Ceretto</td>\n    </tr>\n    <tr>\n      <th>130</th>\n      <td>Italy</td>\n      <td>At the first it was quite muted and subdued, b...</td>\n      <td>Bricco Rocche Brunate</td>\n      <td>91</td>\n      <td>70.0</td>\n      <td>Piedmont</td>\n      <td>Barolo</td>\n      <td>NaN</td>\n      <td>NaN</td>\n      <td>NaN</td>\n      <td>Ceretto 2003 Bricco Rocche Brunate  (Barolo)</td>\n      <td>Nebbiolo</td>\n      <td>Ceretto</td>\n    </tr>\n    <tr>\n      <th>...</th>\n      <td>...</td>\n      <td>...</td>\n      <td>...</td>\n      <td>...</td>\n      <td>...</td>\n      <td>...</td>\n      <td>...</td>\n      <td>...</td>\n      <td>...</td>\n      <td>...</td>\n      <td>...</td>\n      <td>...</td>\n      <td>...</td>\n    </tr>\n    <tr>\n      <th>129961</th>\n      <td>Italy</td>\n      <td>Intense aromas of wild cherry, baking spice, t...</td>\n      <td>NaN</td>\n      <td>90</td>\n      <td>30.0</td>\n      <td>Sicily &amp; Sardinia</td>\n      <td>Sicilia</td>\n      <td>NaN</td>\n      <td>Kerin O’Keefe</td>\n      <td>@kerinokeefe</td>\n      <td>COS 2013 Frappato (Sicilia)</td>\n      <td>Frappato</td>\n      <td>COS</td>\n    </tr>\n    <tr>\n      <th>129962</th>\n      <td>Italy</td>\n      <td>Blackberry, cassis, grilled herb and toasted a...</td>\n      <td>Sàgana Tenuta San Giacomo</td>\n      <td>90</td>\n      <td>40.0</td>\n      <td>Sicily &amp; Sardinia</td>\n      <td>Sicilia</td>\n      <td>NaN</td>\n      <td>Kerin O’Keefe</td>\n      <td>@kerinokeefe</td>\n      <td>Cusumano 2012 Sàgana Tenuta San Giacomo Nero d...</td>\n      <td>Nero d'Avola</td>\n      <td>Cusumano</td>\n    </tr>\n  </tbody>\n</table>\n<p>6648 rows × 13 columns</p>\n</div>"
     },
     "execution_count": 18,
     "metadata": {},
     "output_type": "execute_result"
    }
   ],
   "source": [
    "reviews.loc[(reviews.country == 'Italy') & (reviews.points >= 90)]"
   ],
   "metadata": {
    "collapsed": false,
    "pycharm": {
     "name": "#%%\n"
    }
   }
  },
  {
   "cell_type": "code",
   "execution_count": 19,
   "outputs": [
    {
     "data": {
      "text/plain": "       country                                        description  \\\n0        Italy  Aromas include tropical fruit, broom, brimston...   \n6        Italy  Here's a bright, informal red that opens with ...   \n...        ...                                                ...   \n129969  France  A dry style of Pinot Gris, this is crisp with ...   \n129970  France  Big, rich and off-dry, this is powered by inte...   \n\n                          designation  points  price           province  \\\n0                        Vulkà Bianco      87    NaN  Sicily & Sardinia   \n6                             Belsito      87   16.0  Sicily & Sardinia   \n...                               ...     ...    ...                ...   \n129969                            NaN      90   32.0             Alsace   \n129970  Lieu-dit Harth Cuvée Caroline      90   21.0             Alsace   \n\n        region_1 region_2    taster_name taster_twitter_handle  \\\n0           Etna      NaN  Kerin O’Keefe          @kerinokeefe   \n6       Vittoria      NaN  Kerin O’Keefe          @kerinokeefe   \n...          ...      ...            ...                   ...   \n129969    Alsace      NaN     Roger Voss            @vossroger   \n129970    Alsace      NaN     Roger Voss            @vossroger   \n\n                                                    title         variety  \\\n0                       Nicosia 2013 Vulkà Bianco  (Etna)     White Blend   \n6        Terre di Giurfo 2013 Belsito Frappato (Vittoria)        Frappato   \n...                                                   ...             ...   \n129969      Domaine Marcel Deiss 2012 Pinot Gris (Alsace)      Pinot Gris   \n129970  Domaine Schoffit 2012 Lieu-dit Harth Cuvée Car...  Gewürztraminer   \n\n                      winery  \n0                    Nicosia  \n6            Terre di Giurfo  \n...                      ...  \n129969  Domaine Marcel Deiss  \n129970      Domaine Schoffit  \n\n[61937 rows x 13 columns]",
      "text/html": "<div>\n<style scoped>\n    .dataframe tbody tr th:only-of-type {\n        vertical-align: middle;\n    }\n\n    .dataframe tbody tr th {\n        vertical-align: top;\n    }\n\n    .dataframe thead th {\n        text-align: right;\n    }\n</style>\n<table border=\"1\" class=\"dataframe\">\n  <thead>\n    <tr style=\"text-align: right;\">\n      <th></th>\n      <th>country</th>\n      <th>description</th>\n      <th>designation</th>\n      <th>points</th>\n      <th>price</th>\n      <th>province</th>\n      <th>region_1</th>\n      <th>region_2</th>\n      <th>taster_name</th>\n      <th>taster_twitter_handle</th>\n      <th>title</th>\n      <th>variety</th>\n      <th>winery</th>\n    </tr>\n  </thead>\n  <tbody>\n    <tr>\n      <th>0</th>\n      <td>Italy</td>\n      <td>Aromas include tropical fruit, broom, brimston...</td>\n      <td>Vulkà Bianco</td>\n      <td>87</td>\n      <td>NaN</td>\n      <td>Sicily &amp; Sardinia</td>\n      <td>Etna</td>\n      <td>NaN</td>\n      <td>Kerin O’Keefe</td>\n      <td>@kerinokeefe</td>\n      <td>Nicosia 2013 Vulkà Bianco  (Etna)</td>\n      <td>White Blend</td>\n      <td>Nicosia</td>\n    </tr>\n    <tr>\n      <th>6</th>\n      <td>Italy</td>\n      <td>Here's a bright, informal red that opens with ...</td>\n      <td>Belsito</td>\n      <td>87</td>\n      <td>16.0</td>\n      <td>Sicily &amp; Sardinia</td>\n      <td>Vittoria</td>\n      <td>NaN</td>\n      <td>Kerin O’Keefe</td>\n      <td>@kerinokeefe</td>\n      <td>Terre di Giurfo 2013 Belsito Frappato (Vittoria)</td>\n      <td>Frappato</td>\n      <td>Terre di Giurfo</td>\n    </tr>\n    <tr>\n      <th>...</th>\n      <td>...</td>\n      <td>...</td>\n      <td>...</td>\n      <td>...</td>\n      <td>...</td>\n      <td>...</td>\n      <td>...</td>\n      <td>...</td>\n      <td>...</td>\n      <td>...</td>\n      <td>...</td>\n      <td>...</td>\n      <td>...</td>\n    </tr>\n    <tr>\n      <th>129969</th>\n      <td>France</td>\n      <td>A dry style of Pinot Gris, this is crisp with ...</td>\n      <td>NaN</td>\n      <td>90</td>\n      <td>32.0</td>\n      <td>Alsace</td>\n      <td>Alsace</td>\n      <td>NaN</td>\n      <td>Roger Voss</td>\n      <td>@vossroger</td>\n      <td>Domaine Marcel Deiss 2012 Pinot Gris (Alsace)</td>\n      <td>Pinot Gris</td>\n      <td>Domaine Marcel Deiss</td>\n    </tr>\n    <tr>\n      <th>129970</th>\n      <td>France</td>\n      <td>Big, rich and off-dry, this is powered by inte...</td>\n      <td>Lieu-dit Harth Cuvée Caroline</td>\n      <td>90</td>\n      <td>21.0</td>\n      <td>Alsace</td>\n      <td>Alsace</td>\n      <td>NaN</td>\n      <td>Roger Voss</td>\n      <td>@vossroger</td>\n      <td>Domaine Schoffit 2012 Lieu-dit Harth Cuvée Car...</td>\n      <td>Gewürztraminer</td>\n      <td>Domaine Schoffit</td>\n    </tr>\n  </tbody>\n</table>\n<p>61937 rows × 13 columns</p>\n</div>"
     },
     "execution_count": 19,
     "metadata": {},
     "output_type": "execute_result"
    }
   ],
   "source": [
    "reviews.loc[(reviews.country == 'Italy') | (reviews.points >= 90)]\n"
   ],
   "metadata": {
    "collapsed": false,
    "pycharm": {
     "name": "#%%\n"
    }
   }
  },
  {
   "cell_type": "code",
   "execution_count": 20,
   "outputs": [
    {
     "data": {
      "text/plain": "       country                                        description  \\\n0        Italy  Aromas include tropical fruit, broom, brimston...   \n6        Italy  Here's a bright, informal red that opens with ...   \n...        ...                                                ...   \n129969  France  A dry style of Pinot Gris, this is crisp with ...   \n129970  France  Big, rich and off-dry, this is powered by inte...   \n\n                          designation  points  price           province  \\\n0                        Vulkà Bianco      87    NaN  Sicily & Sardinia   \n6                             Belsito      87   16.0  Sicily & Sardinia   \n...                               ...     ...    ...                ...   \n129969                            NaN      90   32.0             Alsace   \n129970  Lieu-dit Harth Cuvée Caroline      90   21.0             Alsace   \n\n        region_1 region_2    taster_name taster_twitter_handle  \\\n0           Etna      NaN  Kerin O’Keefe          @kerinokeefe   \n6       Vittoria      NaN  Kerin O’Keefe          @kerinokeefe   \n...          ...      ...            ...                   ...   \n129969    Alsace      NaN     Roger Voss            @vossroger   \n129970    Alsace      NaN     Roger Voss            @vossroger   \n\n                                                    title         variety  \\\n0                       Nicosia 2013 Vulkà Bianco  (Etna)     White Blend   \n6        Terre di Giurfo 2013 Belsito Frappato (Vittoria)        Frappato   \n...                                                   ...             ...   \n129969      Domaine Marcel Deiss 2012 Pinot Gris (Alsace)      Pinot Gris   \n129970  Domaine Schoffit 2012 Lieu-dit Harth Cuvée Car...  Gewürztraminer   \n\n                      winery  \n0                    Nicosia  \n6            Terre di Giurfo  \n...                      ...  \n129969  Domaine Marcel Deiss  \n129970      Domaine Schoffit  \n\n[41633 rows x 13 columns]",
      "text/html": "<div>\n<style scoped>\n    .dataframe tbody tr th:only-of-type {\n        vertical-align: middle;\n    }\n\n    .dataframe tbody tr th {\n        vertical-align: top;\n    }\n\n    .dataframe thead th {\n        text-align: right;\n    }\n</style>\n<table border=\"1\" class=\"dataframe\">\n  <thead>\n    <tr style=\"text-align: right;\">\n      <th></th>\n      <th>country</th>\n      <th>description</th>\n      <th>designation</th>\n      <th>points</th>\n      <th>price</th>\n      <th>province</th>\n      <th>region_1</th>\n      <th>region_2</th>\n      <th>taster_name</th>\n      <th>taster_twitter_handle</th>\n      <th>title</th>\n      <th>variety</th>\n      <th>winery</th>\n    </tr>\n  </thead>\n  <tbody>\n    <tr>\n      <th>0</th>\n      <td>Italy</td>\n      <td>Aromas include tropical fruit, broom, brimston...</td>\n      <td>Vulkà Bianco</td>\n      <td>87</td>\n      <td>NaN</td>\n      <td>Sicily &amp; Sardinia</td>\n      <td>Etna</td>\n      <td>NaN</td>\n      <td>Kerin O’Keefe</td>\n      <td>@kerinokeefe</td>\n      <td>Nicosia 2013 Vulkà Bianco  (Etna)</td>\n      <td>White Blend</td>\n      <td>Nicosia</td>\n    </tr>\n    <tr>\n      <th>6</th>\n      <td>Italy</td>\n      <td>Here's a bright, informal red that opens with ...</td>\n      <td>Belsito</td>\n      <td>87</td>\n      <td>16.0</td>\n      <td>Sicily &amp; Sardinia</td>\n      <td>Vittoria</td>\n      <td>NaN</td>\n      <td>Kerin O’Keefe</td>\n      <td>@kerinokeefe</td>\n      <td>Terre di Giurfo 2013 Belsito Frappato (Vittoria)</td>\n      <td>Frappato</td>\n      <td>Terre di Giurfo</td>\n    </tr>\n    <tr>\n      <th>...</th>\n      <td>...</td>\n      <td>...</td>\n      <td>...</td>\n      <td>...</td>\n      <td>...</td>\n      <td>...</td>\n      <td>...</td>\n      <td>...</td>\n      <td>...</td>\n      <td>...</td>\n      <td>...</td>\n      <td>...</td>\n      <td>...</td>\n    </tr>\n    <tr>\n      <th>129969</th>\n      <td>France</td>\n      <td>A dry style of Pinot Gris, this is crisp with ...</td>\n      <td>NaN</td>\n      <td>90</td>\n      <td>32.0</td>\n      <td>Alsace</td>\n      <td>Alsace</td>\n      <td>NaN</td>\n      <td>Roger Voss</td>\n      <td>@vossroger</td>\n      <td>Domaine Marcel Deiss 2012 Pinot Gris (Alsace)</td>\n      <td>Pinot Gris</td>\n      <td>Domaine Marcel Deiss</td>\n    </tr>\n    <tr>\n      <th>129970</th>\n      <td>France</td>\n      <td>Big, rich and off-dry, this is powered by inte...</td>\n      <td>Lieu-dit Harth Cuvée Caroline</td>\n      <td>90</td>\n      <td>21.0</td>\n      <td>Alsace</td>\n      <td>Alsace</td>\n      <td>NaN</td>\n      <td>Roger Voss</td>\n      <td>@vossroger</td>\n      <td>Domaine Schoffit 2012 Lieu-dit Harth Cuvée Car...</td>\n      <td>Gewürztraminer</td>\n      <td>Domaine Schoffit</td>\n    </tr>\n  </tbody>\n</table>\n<p>41633 rows × 13 columns</p>\n</div>"
     },
     "execution_count": 20,
     "metadata": {},
     "output_type": "execute_result"
    }
   ],
   "source": [
    "reviews.loc[reviews.country.isin(['Italy', 'France'])]"
   ],
   "metadata": {
    "collapsed": false,
    "pycharm": {
     "name": "#%%\n"
    }
   }
  },
  {
   "cell_type": "code",
   "execution_count": 21,
   "outputs": [
    {
     "data": {
      "text/plain": "         country                                        description  \\\n1       Portugal  This is ripe and fruity, a wine that is smooth...   \n2             US  Tart and snappy, the flavors of lime flesh and...   \n...          ...                                                ...   \n129969    France  A dry style of Pinot Gris, this is crisp with ...   \n129970    France  Big, rich and off-dry, this is powered by inte...   \n\n                          designation  points  price province  \\\n1                            Avidagos      87   15.0    Douro   \n2                                 NaN      87   14.0   Oregon   \n...                               ...     ...    ...      ...   \n129969                            NaN      90   32.0   Alsace   \n129970  Lieu-dit Harth Cuvée Caroline      90   21.0   Alsace   \n\n                 region_1           region_2   taster_name  \\\n1                     NaN                NaN    Roger Voss   \n2       Willamette Valley  Willamette Valley  Paul Gregutt   \n...                   ...                ...           ...   \n129969             Alsace                NaN    Roger Voss   \n129970             Alsace                NaN    Roger Voss   \n\n       taster_twitter_handle  \\\n1                 @vossroger   \n2                @paulgwine    \n...                      ...   \n129969            @vossroger   \n129970            @vossroger   \n\n                                                    title         variety  \\\n1           Quinta dos Avidagos 2011 Avidagos Red (Douro)  Portuguese Red   \n2           Rainstorm 2013 Pinot Gris (Willamette Valley)      Pinot Gris   \n...                                                   ...             ...   \n129969      Domaine Marcel Deiss 2012 Pinot Gris (Alsace)      Pinot Gris   \n129970  Domaine Schoffit 2012 Lieu-dit Harth Cuvée Car...  Gewürztraminer   \n\n                      winery  \n1        Quinta dos Avidagos  \n2                  Rainstorm  \n...                      ...  \n129969  Domaine Marcel Deiss  \n129970      Domaine Schoffit  \n\n[120975 rows x 13 columns]",
      "text/html": "<div>\n<style scoped>\n    .dataframe tbody tr th:only-of-type {\n        vertical-align: middle;\n    }\n\n    .dataframe tbody tr th {\n        vertical-align: top;\n    }\n\n    .dataframe thead th {\n        text-align: right;\n    }\n</style>\n<table border=\"1\" class=\"dataframe\">\n  <thead>\n    <tr style=\"text-align: right;\">\n      <th></th>\n      <th>country</th>\n      <th>description</th>\n      <th>designation</th>\n      <th>points</th>\n      <th>price</th>\n      <th>province</th>\n      <th>region_1</th>\n      <th>region_2</th>\n      <th>taster_name</th>\n      <th>taster_twitter_handle</th>\n      <th>title</th>\n      <th>variety</th>\n      <th>winery</th>\n    </tr>\n  </thead>\n  <tbody>\n    <tr>\n      <th>1</th>\n      <td>Portugal</td>\n      <td>This is ripe and fruity, a wine that is smooth...</td>\n      <td>Avidagos</td>\n      <td>87</td>\n      <td>15.0</td>\n      <td>Douro</td>\n      <td>NaN</td>\n      <td>NaN</td>\n      <td>Roger Voss</td>\n      <td>@vossroger</td>\n      <td>Quinta dos Avidagos 2011 Avidagos Red (Douro)</td>\n      <td>Portuguese Red</td>\n      <td>Quinta dos Avidagos</td>\n    </tr>\n    <tr>\n      <th>2</th>\n      <td>US</td>\n      <td>Tart and snappy, the flavors of lime flesh and...</td>\n      <td>NaN</td>\n      <td>87</td>\n      <td>14.0</td>\n      <td>Oregon</td>\n      <td>Willamette Valley</td>\n      <td>Willamette Valley</td>\n      <td>Paul Gregutt</td>\n      <td>@paulgwine</td>\n      <td>Rainstorm 2013 Pinot Gris (Willamette Valley)</td>\n      <td>Pinot Gris</td>\n      <td>Rainstorm</td>\n    </tr>\n    <tr>\n      <th>...</th>\n      <td>...</td>\n      <td>...</td>\n      <td>...</td>\n      <td>...</td>\n      <td>...</td>\n      <td>...</td>\n      <td>...</td>\n      <td>...</td>\n      <td>...</td>\n      <td>...</td>\n      <td>...</td>\n      <td>...</td>\n      <td>...</td>\n    </tr>\n    <tr>\n      <th>129969</th>\n      <td>France</td>\n      <td>A dry style of Pinot Gris, this is crisp with ...</td>\n      <td>NaN</td>\n      <td>90</td>\n      <td>32.0</td>\n      <td>Alsace</td>\n      <td>Alsace</td>\n      <td>NaN</td>\n      <td>Roger Voss</td>\n      <td>@vossroger</td>\n      <td>Domaine Marcel Deiss 2012 Pinot Gris (Alsace)</td>\n      <td>Pinot Gris</td>\n      <td>Domaine Marcel Deiss</td>\n    </tr>\n    <tr>\n      <th>129970</th>\n      <td>France</td>\n      <td>Big, rich and off-dry, this is powered by inte...</td>\n      <td>Lieu-dit Harth Cuvée Caroline</td>\n      <td>90</td>\n      <td>21.0</td>\n      <td>Alsace</td>\n      <td>Alsace</td>\n      <td>NaN</td>\n      <td>Roger Voss</td>\n      <td>@vossroger</td>\n      <td>Domaine Schoffit 2012 Lieu-dit Harth Cuvée Car...</td>\n      <td>Gewürztraminer</td>\n      <td>Domaine Schoffit</td>\n    </tr>\n  </tbody>\n</table>\n<p>120975 rows × 13 columns</p>\n</div>"
     },
     "execution_count": 21,
     "metadata": {},
     "output_type": "execute_result"
    }
   ],
   "source": [
    "reviews.loc[reviews.price.notnull()]"
   ],
   "metadata": {
    "collapsed": false,
    "pycharm": {
     "name": "#%%\n"
    }
   }
  },
  {
   "cell_type": "code",
   "execution_count": 22,
   "outputs": [
    {
     "data": {
      "text/plain": "       country                                        description  \\\n0        Italy  Aromas include tropical fruit, broom, brimston...   \n13       Italy  This is dominated by oak and oak-driven aromas...   \n...        ...                                                ...   \n129893   Italy  Aromas of passion fruit, hay and a vegetal not...   \n129964  France  Initially quite muted, this wine slowly develo...   \n\n                         designation  points  price           province  \\\n0                       Vulkà Bianco      87    NaN  Sicily & Sardinia   \n13                             Rosso      87    NaN  Sicily & Sardinia   \n...                              ...     ...    ...                ...   \n129893                  Corte Menini      91    NaN             Veneto   \n129964  Domaine Saint-Rémy Herrenweg      90    NaN             Alsace   \n\n              region_1 region_2    taster_name taster_twitter_handle  \\\n0                 Etna      NaN  Kerin O’Keefe          @kerinokeefe   \n13                Etna      NaN  Kerin O’Keefe          @kerinokeefe   \n...                ...      ...            ...                   ...   \n129893  Soave Classico      NaN  Kerin O’Keefe          @kerinokeefe   \n129964          Alsace      NaN     Roger Voss            @vossroger   \n\n                                                    title            variety  \\\n0                       Nicosia 2013 Vulkà Bianco  (Etna)        White Blend   \n13                 Masseria Setteporte 2012 Rosso  (Etna)  Nerello Mascalese   \n...                                                   ...                ...   \n129893   Le Mandolare 2015 Corte Menini  (Soave Classico)          Garganega   \n129964  Domaine Ehrhart 2013 Domaine Saint-Rémy Herren...     Gewürztraminer   \n\n                     winery  \n0                   Nicosia  \n13      Masseria Setteporte  \n...                     ...  \n129893         Le Mandolare  \n129964      Domaine Ehrhart  \n\n[8996 rows x 13 columns]",
      "text/html": "<div>\n<style scoped>\n    .dataframe tbody tr th:only-of-type {\n        vertical-align: middle;\n    }\n\n    .dataframe tbody tr th {\n        vertical-align: top;\n    }\n\n    .dataframe thead th {\n        text-align: right;\n    }\n</style>\n<table border=\"1\" class=\"dataframe\">\n  <thead>\n    <tr style=\"text-align: right;\">\n      <th></th>\n      <th>country</th>\n      <th>description</th>\n      <th>designation</th>\n      <th>points</th>\n      <th>price</th>\n      <th>province</th>\n      <th>region_1</th>\n      <th>region_2</th>\n      <th>taster_name</th>\n      <th>taster_twitter_handle</th>\n      <th>title</th>\n      <th>variety</th>\n      <th>winery</th>\n    </tr>\n  </thead>\n  <tbody>\n    <tr>\n      <th>0</th>\n      <td>Italy</td>\n      <td>Aromas include tropical fruit, broom, brimston...</td>\n      <td>Vulkà Bianco</td>\n      <td>87</td>\n      <td>NaN</td>\n      <td>Sicily &amp; Sardinia</td>\n      <td>Etna</td>\n      <td>NaN</td>\n      <td>Kerin O’Keefe</td>\n      <td>@kerinokeefe</td>\n      <td>Nicosia 2013 Vulkà Bianco  (Etna)</td>\n      <td>White Blend</td>\n      <td>Nicosia</td>\n    </tr>\n    <tr>\n      <th>13</th>\n      <td>Italy</td>\n      <td>This is dominated by oak and oak-driven aromas...</td>\n      <td>Rosso</td>\n      <td>87</td>\n      <td>NaN</td>\n      <td>Sicily &amp; Sardinia</td>\n      <td>Etna</td>\n      <td>NaN</td>\n      <td>Kerin O’Keefe</td>\n      <td>@kerinokeefe</td>\n      <td>Masseria Setteporte 2012 Rosso  (Etna)</td>\n      <td>Nerello Mascalese</td>\n      <td>Masseria Setteporte</td>\n    </tr>\n    <tr>\n      <th>...</th>\n      <td>...</td>\n      <td>...</td>\n      <td>...</td>\n      <td>...</td>\n      <td>...</td>\n      <td>...</td>\n      <td>...</td>\n      <td>...</td>\n      <td>...</td>\n      <td>...</td>\n      <td>...</td>\n      <td>...</td>\n      <td>...</td>\n    </tr>\n    <tr>\n      <th>129893</th>\n      <td>Italy</td>\n      <td>Aromas of passion fruit, hay and a vegetal not...</td>\n      <td>Corte Menini</td>\n      <td>91</td>\n      <td>NaN</td>\n      <td>Veneto</td>\n      <td>Soave Classico</td>\n      <td>NaN</td>\n      <td>Kerin O’Keefe</td>\n      <td>@kerinokeefe</td>\n      <td>Le Mandolare 2015 Corte Menini  (Soave Classico)</td>\n      <td>Garganega</td>\n      <td>Le Mandolare</td>\n    </tr>\n    <tr>\n      <th>129964</th>\n      <td>France</td>\n      <td>Initially quite muted, this wine slowly develo...</td>\n      <td>Domaine Saint-Rémy Herrenweg</td>\n      <td>90</td>\n      <td>NaN</td>\n      <td>Alsace</td>\n      <td>Alsace</td>\n      <td>NaN</td>\n      <td>Roger Voss</td>\n      <td>@vossroger</td>\n      <td>Domaine Ehrhart 2013 Domaine Saint-Rémy Herren...</td>\n      <td>Gewürztraminer</td>\n      <td>Domaine Ehrhart</td>\n    </tr>\n  </tbody>\n</table>\n<p>8996 rows × 13 columns</p>\n</div>"
     },
     "execution_count": 22,
     "metadata": {},
     "output_type": "execute_result"
    }
   ],
   "source": [
    "reviews.loc[reviews.price.isnull()]"
   ],
   "metadata": {
    "collapsed": false,
    "pycharm": {
     "name": "#%%\n"
    }
   }
  },
  {
   "cell_type": "code",
   "execution_count": 23,
   "outputs": [
    {
     "data": {
      "text/plain": "0         everyone\n1         everyone\n            ...   \n129969    everyone\n129970    everyone\nName: critic, Length: 129971, dtype: object"
     },
     "execution_count": 23,
     "metadata": {},
     "output_type": "execute_result"
    }
   ],
   "source": [
    "reviews['critic'] = 'everyone'\n",
    "reviews['critic']"
   ],
   "metadata": {
    "collapsed": false,
    "pycharm": {
     "name": "#%%\n"
    }
   }
  },
  {
   "cell_type": "code",
   "execution_count": 24,
   "outputs": [
    {
     "name": "stderr",
     "output_type": "stream",
     "text": [
      "/var/folders/l9/8mz3lv_j57b6dfzs8tpd116r0000gn/T/ipykernel_22074/133612408.py:1: SettingWithCopyWarning: \n",
      "A value is trying to be set on a copy of a slice from a DataFrame\n",
      "\n",
      "See the caveats in the documentation: https://pandas.pydata.org/pandas-docs/stable/user_guide/indexing.html#returning-a-view-versus-a-copy\n",
      "  reviews['critic'][0] = 'not everyone'\n"
     ]
    },
    {
     "data": {
      "text/plain": "0         not everyone\n1             everyone\n              ...     \n129969        everyone\n129970        everyone\nName: critic, Length: 129971, dtype: object"
     },
     "execution_count": 24,
     "metadata": {},
     "output_type": "execute_result"
    }
   ],
   "source": [
    "reviews['critic'][0] = 'not everyone'\n",
    "reviews['critic']"
   ],
   "metadata": {
    "collapsed": false,
    "pycharm": {
     "name": "#%%\n"
    }
   }
  },
  {
   "cell_type": "code",
   "execution_count": 25,
   "outputs": [
    {
     "data": {
      "text/plain": "0         129971\n1         129970\n           ...  \n129969         2\n129970         1\nName: index_backwards, Length: 129971, dtype: int64"
     },
     "execution_count": 25,
     "metadata": {},
     "output_type": "execute_result"
    }
   ],
   "source": [
    "reviews['index_backwards'] = range(len(reviews), 0, -1)\n",
    "reviews['index_backwards']"
   ],
   "metadata": {
    "collapsed": false,
    "pycharm": {
     "name": "#%%\n"
    }
   }
  },
  {
   "cell_type": "code",
   "execution_count": null,
   "outputs": [],
   "source": [],
   "metadata": {
    "collapsed": false,
    "pycharm": {
     "name": "#%%\n"
    }
   }
  }
 ],
 "metadata": {
  "kernelspec": {
   "display_name": "Python 3",
   "language": "python",
   "name": "python3"
  },
  "language_info": {
   "codemirror_mode": {
    "name": "ipython",
    "version": 2
   },
   "file_extension": ".py",
   "mimetype": "text/x-python",
   "name": "python",
   "nbconvert_exporter": "python",
   "pygments_lexer": "ipython2",
   "version": "2.7.6"
  }
 },
 "nbformat": 4,
 "nbformat_minor": 0
}