{
 "cells": [
  {
   "cell_type": "code",
   "execution_count": 1,
   "metadata": {
    "collapsed": true
   },
   "outputs": [],
   "source": [
    "import pandas as pd\n",
    "reviews = pd.read_csv('./winemag-data-130k-v2.csv', index_col=0)\n",
    "pd.set_option(\"display.max_rows\", 5)"
   ]
  },
  {
   "cell_type": "code",
   "execution_count": 2,
   "outputs": [
    {
     "data": {
      "text/plain": "points\n80     397\n81     692\n      ... \n99      33\n100     19\nName: points, Length: 21, dtype: int64"
     },
     "execution_count": 2,
     "metadata": {},
     "output_type": "execute_result"
    }
   ],
   "source": [
    "reviews.groupby('points').points.count()"
   ],
   "metadata": {
    "collapsed": false,
    "pycharm": {
     "name": "#%%\n"
    }
   }
  },
  {
   "cell_type": "code",
   "execution_count": 3,
   "outputs": [
    {
     "data": {
      "text/plain": "points\n80      5.0\n81      5.0\n       ... \n99     44.0\n100    80.0\nName: price, Length: 21, dtype: float64"
     },
     "execution_count": 3,
     "metadata": {},
     "output_type": "execute_result"
    }
   ],
   "source": [
    "reviews.groupby('points').price.min()"
   ],
   "metadata": {
    "collapsed": false,
    "pycharm": {
     "name": "#%%\n"
    }
   }
  },
  {
   "cell_type": "code",
   "execution_count": 4,
   "outputs": [
    {
     "data": {
      "text/plain": "winery\n1+1=3                          1+1=3 NV Rosé Sparkling (Cava)\n10 Knots                 10 Knots 2010 Viognier (Paso Robles)\n                                  ...                        \nàMaurice    àMaurice 2013 Fred Estate Syrah (Walla Walla V...\nŠtoka                         Štoka 2009 Izbrani Teran (Kras)\nLength: 16757, dtype: object"
     },
     "execution_count": 4,
     "metadata": {},
     "output_type": "execute_result"
    }
   ],
   "source": [
    "reviews.groupby('winery').apply(lambda df: df.title.iloc[0])"
   ],
   "metadata": {
    "collapsed": false,
    "pycharm": {
     "name": "#%%\n"
    }
   }
  },
  {
   "cell_type": "code",
   "execution_count": 7,
   "outputs": [
    {
     "data": {
      "text/plain": "                              country  \\\ncountry   province                      \nArgentina Mendoza Province  Argentina   \n          Other             Argentina   \n...                               ...   \nUruguay   San Jose            Uruguay   \n          Uruguay             Uruguay   \n\n                                                                  description  \\\ncountry   province                                                              \nArgentina Mendoza Province  If the color doesn't tell the full story, the ...   \n          Other             Take note, this could be the best wine Colomé ...   \n...                                                                       ...   \nUruguay   San Jose          Baked, sweet, heavy aromas turn earthy with ti...   \n          Uruguay           Cherry and berry aromas are ripe, healthy and ...   \n\n                                          designation  points  price  \\\ncountry   province                                                     \nArgentina Mendoza Province           Nicasia Vineyard      97  120.0   \n          Other                               Reserva      95   90.0   \n...                                               ...     ...    ...   \nUruguay   San Jose           El Preciado Gran Reserva      87   50.0   \n          Uruguay           Blend 002 Limited Edition      91   22.0   \n\n                                    province region_1 region_2  \\\ncountry   province                                               \nArgentina Mendoza Province  Mendoza Province  Mendoza      NaN   \n          Other                        Other    Salta      NaN   \n...                                      ...      ...      ...   \nUruguay   San Jose                  San Jose      NaN      NaN   \n          Uruguay                    Uruguay      NaN      NaN   \n\n                                  taster_name taster_twitter_handle  \\\ncountry   province                                                    \nArgentina Mendoza Province  Michael Schachner           @wineschach   \n          Other             Michael Schachner           @wineschach   \n...                                       ...                   ...   \nUruguay   San Jose          Michael Schachner           @wineschach   \n          Uruguay           Michael Schachner           @wineschach   \n\n                                                                        title  \\\ncountry   province                                                              \nArgentina Mendoza Province  Bodega Catena Zapata 2006 Nicasia Vineyard Mal...   \n          Other                            Colomé 2010 Reserva Malbec (Salta)   \n...                                                                       ...   \nUruguay   San Jose          Castillo Viejo 2005 El Preciado Gran Reserva R...   \n          Uruguay           Narbona NV Blend 002 Limited Edition Tannat-Ca...   \n\n                                          variety                winery  \ncountry   province                                                       \nArgentina Mendoza Province                 Malbec  Bodega Catena Zapata  \n          Other                            Malbec                Colomé  \n...                                           ...                   ...  \nUruguay   San Jose                      Red Blend        Castillo Viejo  \n          Uruguay           Tannat-Cabernet Franc               Narbona  \n\n[425 rows x 13 columns]",
      "text/html": "<div>\n<style scoped>\n    .dataframe tbody tr th:only-of-type {\n        vertical-align: middle;\n    }\n\n    .dataframe tbody tr th {\n        vertical-align: top;\n    }\n\n    .dataframe thead th {\n        text-align: right;\n    }\n</style>\n<table border=\"1\" class=\"dataframe\">\n  <thead>\n    <tr style=\"text-align: right;\">\n      <th></th>\n      <th></th>\n      <th>country</th>\n      <th>description</th>\n      <th>designation</th>\n      <th>points</th>\n      <th>price</th>\n      <th>province</th>\n      <th>region_1</th>\n      <th>region_2</th>\n      <th>taster_name</th>\n      <th>taster_twitter_handle</th>\n      <th>title</th>\n      <th>variety</th>\n      <th>winery</th>\n    </tr>\n    <tr>\n      <th>country</th>\n      <th>province</th>\n      <th></th>\n      <th></th>\n      <th></th>\n      <th></th>\n      <th></th>\n      <th></th>\n      <th></th>\n      <th></th>\n      <th></th>\n      <th></th>\n      <th></th>\n      <th></th>\n      <th></th>\n    </tr>\n  </thead>\n  <tbody>\n    <tr>\n      <th rowspan=\"2\" valign=\"top\">Argentina</th>\n      <th>Mendoza Province</th>\n      <td>Argentina</td>\n      <td>If the color doesn't tell the full story, the ...</td>\n      <td>Nicasia Vineyard</td>\n      <td>97</td>\n      <td>120.0</td>\n      <td>Mendoza Province</td>\n      <td>Mendoza</td>\n      <td>NaN</td>\n      <td>Michael Schachner</td>\n      <td>@wineschach</td>\n      <td>Bodega Catena Zapata 2006 Nicasia Vineyard Mal...</td>\n      <td>Malbec</td>\n      <td>Bodega Catena Zapata</td>\n    </tr>\n    <tr>\n      <th>Other</th>\n      <td>Argentina</td>\n      <td>Take note, this could be the best wine Colomé ...</td>\n      <td>Reserva</td>\n      <td>95</td>\n      <td>90.0</td>\n      <td>Other</td>\n      <td>Salta</td>\n      <td>NaN</td>\n      <td>Michael Schachner</td>\n      <td>@wineschach</td>\n      <td>Colomé 2010 Reserva Malbec (Salta)</td>\n      <td>Malbec</td>\n      <td>Colomé</td>\n    </tr>\n    <tr>\n      <th>...</th>\n      <th>...</th>\n      <td>...</td>\n      <td>...</td>\n      <td>...</td>\n      <td>...</td>\n      <td>...</td>\n      <td>...</td>\n      <td>...</td>\n      <td>...</td>\n      <td>...</td>\n      <td>...</td>\n      <td>...</td>\n      <td>...</td>\n      <td>...</td>\n    </tr>\n    <tr>\n      <th rowspan=\"2\" valign=\"top\">Uruguay</th>\n      <th>San Jose</th>\n      <td>Uruguay</td>\n      <td>Baked, sweet, heavy aromas turn earthy with ti...</td>\n      <td>El Preciado Gran Reserva</td>\n      <td>87</td>\n      <td>50.0</td>\n      <td>San Jose</td>\n      <td>NaN</td>\n      <td>NaN</td>\n      <td>Michael Schachner</td>\n      <td>@wineschach</td>\n      <td>Castillo Viejo 2005 El Preciado Gran Reserva R...</td>\n      <td>Red Blend</td>\n      <td>Castillo Viejo</td>\n    </tr>\n    <tr>\n      <th>Uruguay</th>\n      <td>Uruguay</td>\n      <td>Cherry and berry aromas are ripe, healthy and ...</td>\n      <td>Blend 002 Limited Edition</td>\n      <td>91</td>\n      <td>22.0</td>\n      <td>Uruguay</td>\n      <td>NaN</td>\n      <td>NaN</td>\n      <td>Michael Schachner</td>\n      <td>@wineschach</td>\n      <td>Narbona NV Blend 002 Limited Edition Tannat-Ca...</td>\n      <td>Tannat-Cabernet Franc</td>\n      <td>Narbona</td>\n    </tr>\n  </tbody>\n</table>\n<p>425 rows × 13 columns</p>\n</div>"
     },
     "execution_count": 7,
     "metadata": {},
     "output_type": "execute_result"
    }
   ],
   "source": [
    "reviews.groupby(['country', 'province']).apply(lambda df: df.loc[df.points.idxmax()])"
   ],
   "metadata": {
    "collapsed": false,
    "pycharm": {
     "name": "#%%\n"
    }
   }
  },
  {
   "cell_type": "code",
   "execution_count": 8,
   "outputs": [
    {
     "data": {
      "text/plain": "            len   min    max\ncountry                     \nArgentina  3800   4.0  230.0\nArmenia       2  14.0   15.0\n...         ...   ...    ...\nUkraine      14   6.0   13.0\nUruguay     109  10.0  130.0\n\n[43 rows x 3 columns]",
      "text/html": "<div>\n<style scoped>\n    .dataframe tbody tr th:only-of-type {\n        vertical-align: middle;\n    }\n\n    .dataframe tbody tr th {\n        vertical-align: top;\n    }\n\n    .dataframe thead th {\n        text-align: right;\n    }\n</style>\n<table border=\"1\" class=\"dataframe\">\n  <thead>\n    <tr style=\"text-align: right;\">\n      <th></th>\n      <th>len</th>\n      <th>min</th>\n      <th>max</th>\n    </tr>\n    <tr>\n      <th>country</th>\n      <th></th>\n      <th></th>\n      <th></th>\n    </tr>\n  </thead>\n  <tbody>\n    <tr>\n      <th>Argentina</th>\n      <td>3800</td>\n      <td>4.0</td>\n      <td>230.0</td>\n    </tr>\n    <tr>\n      <th>Armenia</th>\n      <td>2</td>\n      <td>14.0</td>\n      <td>15.0</td>\n    </tr>\n    <tr>\n      <th>...</th>\n      <td>...</td>\n      <td>...</td>\n      <td>...</td>\n    </tr>\n    <tr>\n      <th>Ukraine</th>\n      <td>14</td>\n      <td>6.0</td>\n      <td>13.0</td>\n    </tr>\n    <tr>\n      <th>Uruguay</th>\n      <td>109</td>\n      <td>10.0</td>\n      <td>130.0</td>\n    </tr>\n  </tbody>\n</table>\n<p>43 rows × 3 columns</p>\n</div>"
     },
     "execution_count": 8,
     "metadata": {},
     "output_type": "execute_result"
    }
   ],
   "source": [
    "reviews.groupby(['country']).price.agg([len, min, max])"
   ],
   "metadata": {
    "collapsed": false,
    "pycharm": {
     "name": "#%%\n"
    }
   }
  },
  {
   "cell_type": "code",
   "execution_count": 9,
   "outputs": [
    {
     "data": {
      "text/plain": "                             len\ncountry   province              \nArgentina Mendoza Province  3264\n          Other              536\n...                          ...\nUruguay   San Jose             3\n          Uruguay             24\n\n[425 rows x 1 columns]",
      "text/html": "<div>\n<style scoped>\n    .dataframe tbody tr th:only-of-type {\n        vertical-align: middle;\n    }\n\n    .dataframe tbody tr th {\n        vertical-align: top;\n    }\n\n    .dataframe thead th {\n        text-align: right;\n    }\n</style>\n<table border=\"1\" class=\"dataframe\">\n  <thead>\n    <tr style=\"text-align: right;\">\n      <th></th>\n      <th></th>\n      <th>len</th>\n    </tr>\n    <tr>\n      <th>country</th>\n      <th>province</th>\n      <th></th>\n    </tr>\n  </thead>\n  <tbody>\n    <tr>\n      <th rowspan=\"2\" valign=\"top\">Argentina</th>\n      <th>Mendoza Province</th>\n      <td>3264</td>\n    </tr>\n    <tr>\n      <th>Other</th>\n      <td>536</td>\n    </tr>\n    <tr>\n      <th>...</th>\n      <th>...</th>\n      <td>...</td>\n    </tr>\n    <tr>\n      <th rowspan=\"2\" valign=\"top\">Uruguay</th>\n      <th>San Jose</th>\n      <td>3</td>\n    </tr>\n    <tr>\n      <th>Uruguay</th>\n      <td>24</td>\n    </tr>\n  </tbody>\n</table>\n<p>425 rows × 1 columns</p>\n</div>"
     },
     "execution_count": 9,
     "metadata": {},
     "output_type": "execute_result"
    }
   ],
   "source": [
    "countries_reviewed = reviews.groupby(['country', 'province']).description.agg([len])\n",
    "countries_reviewed"
   ],
   "metadata": {
    "collapsed": false,
    "pycharm": {
     "name": "#%%\n"
    }
   }
  },
  {
   "cell_type": "code",
   "execution_count": 10,
   "outputs": [
    {
     "data": {
      "text/plain": "pandas.core.indexes.multi.MultiIndex"
     },
     "execution_count": 10,
     "metadata": {},
     "output_type": "execute_result"
    }
   ],
   "source": [
    "mi = countries_reviewed.index\n",
    "type(mi)"
   ],
   "metadata": {
    "collapsed": false,
    "pycharm": {
     "name": "#%%\n"
    }
   }
  },
  {
   "cell_type": "code",
   "execution_count": 11,
   "outputs": [
    {
     "data": {
      "text/plain": "       country          province   len\n0    Argentina  Mendoza Province  3264\n1    Argentina             Other   536\n..         ...               ...   ...\n423    Uruguay          San Jose     3\n424    Uruguay           Uruguay    24\n\n[425 rows x 3 columns]",
      "text/html": "<div>\n<style scoped>\n    .dataframe tbody tr th:only-of-type {\n        vertical-align: middle;\n    }\n\n    .dataframe tbody tr th {\n        vertical-align: top;\n    }\n\n    .dataframe thead th {\n        text-align: right;\n    }\n</style>\n<table border=\"1\" class=\"dataframe\">\n  <thead>\n    <tr style=\"text-align: right;\">\n      <th></th>\n      <th>country</th>\n      <th>province</th>\n      <th>len</th>\n    </tr>\n  </thead>\n  <tbody>\n    <tr>\n      <th>0</th>\n      <td>Argentina</td>\n      <td>Mendoza Province</td>\n      <td>3264</td>\n    </tr>\n    <tr>\n      <th>1</th>\n      <td>Argentina</td>\n      <td>Other</td>\n      <td>536</td>\n    </tr>\n    <tr>\n      <th>...</th>\n      <td>...</td>\n      <td>...</td>\n      <td>...</td>\n    </tr>\n    <tr>\n      <th>423</th>\n      <td>Uruguay</td>\n      <td>San Jose</td>\n      <td>3</td>\n    </tr>\n    <tr>\n      <th>424</th>\n      <td>Uruguay</td>\n      <td>Uruguay</td>\n      <td>24</td>\n    </tr>\n  </tbody>\n</table>\n<p>425 rows × 3 columns</p>\n</div>"
     },
     "execution_count": 11,
     "metadata": {},
     "output_type": "execute_result"
    }
   ],
   "source": [
    "countries_reviewed.reset_index()"
   ],
   "metadata": {
    "collapsed": false,
    "pycharm": {
     "name": "#%%\n"
    }
   }
  },
  {
   "cell_type": "code",
   "execution_count": 13,
   "outputs": [
    {
     "data": {
      "text/plain": "     index country    province    len\n392    392      US  California  36247\n415    415      US  Washington   8639\n..     ...     ...         ...    ...\n63      63   Chile     Coelemu      1\n149    149  Greece      Beotia      1\n\n[425 rows x 4 columns]",
      "text/html": "<div>\n<style scoped>\n    .dataframe tbody tr th:only-of-type {\n        vertical-align: middle;\n    }\n\n    .dataframe tbody tr th {\n        vertical-align: top;\n    }\n\n    .dataframe thead th {\n        text-align: right;\n    }\n</style>\n<table border=\"1\" class=\"dataframe\">\n  <thead>\n    <tr style=\"text-align: right;\">\n      <th></th>\n      <th>index</th>\n      <th>country</th>\n      <th>province</th>\n      <th>len</th>\n    </tr>\n  </thead>\n  <tbody>\n    <tr>\n      <th>392</th>\n      <td>392</td>\n      <td>US</td>\n      <td>California</td>\n      <td>36247</td>\n    </tr>\n    <tr>\n      <th>415</th>\n      <td>415</td>\n      <td>US</td>\n      <td>Washington</td>\n      <td>8639</td>\n    </tr>\n    <tr>\n      <th>...</th>\n      <td>...</td>\n      <td>...</td>\n      <td>...</td>\n      <td>...</td>\n    </tr>\n    <tr>\n      <th>63</th>\n      <td>63</td>\n      <td>Chile</td>\n      <td>Coelemu</td>\n      <td>1</td>\n    </tr>\n    <tr>\n      <th>149</th>\n      <td>149</td>\n      <td>Greece</td>\n      <td>Beotia</td>\n      <td>1</td>\n    </tr>\n  </tbody>\n</table>\n<p>425 rows × 4 columns</p>\n</div>"
     },
     "execution_count": 13,
     "metadata": {},
     "output_type": "execute_result"
    }
   ],
   "source": [
    "countries_reviewed = countries_reviewed.reset_index()\n",
    "countries_reviewed.sort_values(by='len', ascending=False)"
   ],
   "metadata": {
    "collapsed": false,
    "pycharm": {
     "name": "#%%\n"
    }
   }
  },
  {
   "cell_type": "code",
   "execution_count": 14,
   "outputs": [
    {
     "data": {
      "text/plain": "     index    country          province   len\n0        0  Argentina  Mendoza Province  3264\n1        1  Argentina             Other   536\n..     ...        ...               ...   ...\n423    423    Uruguay          San Jose     3\n424    424    Uruguay           Uruguay    24\n\n[425 rows x 4 columns]",
      "text/html": "<div>\n<style scoped>\n    .dataframe tbody tr th:only-of-type {\n        vertical-align: middle;\n    }\n\n    .dataframe tbody tr th {\n        vertical-align: top;\n    }\n\n    .dataframe thead th {\n        text-align: right;\n    }\n</style>\n<table border=\"1\" class=\"dataframe\">\n  <thead>\n    <tr style=\"text-align: right;\">\n      <th></th>\n      <th>index</th>\n      <th>country</th>\n      <th>province</th>\n      <th>len</th>\n    </tr>\n  </thead>\n  <tbody>\n    <tr>\n      <th>0</th>\n      <td>0</td>\n      <td>Argentina</td>\n      <td>Mendoza Province</td>\n      <td>3264</td>\n    </tr>\n    <tr>\n      <th>1</th>\n      <td>1</td>\n      <td>Argentina</td>\n      <td>Other</td>\n      <td>536</td>\n    </tr>\n    <tr>\n      <th>...</th>\n      <td>...</td>\n      <td>...</td>\n      <td>...</td>\n      <td>...</td>\n    </tr>\n    <tr>\n      <th>423</th>\n      <td>423</td>\n      <td>Uruguay</td>\n      <td>San Jose</td>\n      <td>3</td>\n    </tr>\n    <tr>\n      <th>424</th>\n      <td>424</td>\n      <td>Uruguay</td>\n      <td>Uruguay</td>\n      <td>24</td>\n    </tr>\n  </tbody>\n</table>\n<p>425 rows × 4 columns</p>\n</div>"
     },
     "execution_count": 14,
     "metadata": {},
     "output_type": "execute_result"
    }
   ],
   "source": [
    "countries_reviewed.sort_index()"
   ],
   "metadata": {
    "collapsed": false,
    "pycharm": {
     "name": "#%%\n"
    }
   }
  },
  {
   "cell_type": "code",
   "execution_count": 16,
   "outputs": [
    {
     "data": {
      "text/plain": "     index    country          province   len\n1        1  Argentina             Other   536\n0        0  Argentina  Mendoza Province  3264\n..     ...        ...               ...   ...\n424    424    Uruguay           Uruguay    24\n419    419    Uruguay         Canelones    43\n\n[425 rows x 4 columns]",
      "text/html": "<div>\n<style scoped>\n    .dataframe tbody tr th:only-of-type {\n        vertical-align: middle;\n    }\n\n    .dataframe tbody tr th {\n        vertical-align: top;\n    }\n\n    .dataframe thead th {\n        text-align: right;\n    }\n</style>\n<table border=\"1\" class=\"dataframe\">\n  <thead>\n    <tr style=\"text-align: right;\">\n      <th></th>\n      <th>index</th>\n      <th>country</th>\n      <th>province</th>\n      <th>len</th>\n    </tr>\n  </thead>\n  <tbody>\n    <tr>\n      <th>1</th>\n      <td>1</td>\n      <td>Argentina</td>\n      <td>Other</td>\n      <td>536</td>\n    </tr>\n    <tr>\n      <th>0</th>\n      <td>0</td>\n      <td>Argentina</td>\n      <td>Mendoza Province</td>\n      <td>3264</td>\n    </tr>\n    <tr>\n      <th>...</th>\n      <td>...</td>\n      <td>...</td>\n      <td>...</td>\n      <td>...</td>\n    </tr>\n    <tr>\n      <th>424</th>\n      <td>424</td>\n      <td>Uruguay</td>\n      <td>Uruguay</td>\n      <td>24</td>\n    </tr>\n    <tr>\n      <th>419</th>\n      <td>419</td>\n      <td>Uruguay</td>\n      <td>Canelones</td>\n      <td>43</td>\n    </tr>\n  </tbody>\n</table>\n<p>425 rows × 4 columns</p>\n</div>"
     },
     "execution_count": 16,
     "metadata": {},
     "output_type": "execute_result"
    }
   ],
   "source": [
    "countries_reviewed.sort_values(by=['country', 'len'])"
   ],
   "metadata": {
    "collapsed": false,
    "pycharm": {
     "name": "#%%\n"
    }
   }
  },
  {
   "cell_type": "code",
   "execution_count": null,
   "outputs": [],
   "source": [],
   "metadata": {
    "collapsed": false,
    "pycharm": {
     "name": "#%%\n"
    }
   }
  }
 ],
 "metadata": {
  "kernelspec": {
   "display_name": "Python 3",
   "language": "python",
   "name": "python3"
  },
  "language_info": {
   "codemirror_mode": {
    "name": "ipython",
    "version": 2
   },
   "file_extension": ".py",
   "mimetype": "text/x-python",
   "name": "python",
   "nbconvert_exporter": "python",
   "pygments_lexer": "ipython2",
   "version": "2.7.6"
  }
 },
 "nbformat": 4,
 "nbformat_minor": 0
}