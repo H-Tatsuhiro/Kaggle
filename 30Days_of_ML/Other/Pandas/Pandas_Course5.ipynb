{
 "cells": [
  {
   "cell_type": "code",
   "execution_count": 1,
   "metadata": {
    "collapsed": true
   },
   "outputs": [],
   "source": [
    "import pandas as pd\n",
    "reviews = pd.read_csv('./winemag-data-130k-v2.csv', index_col=0)\n",
    "pd.set_option('max_rows', 5)"
   ]
  },
  {
   "cell_type": "code",
   "execution_count": 2,
   "outputs": [
    {
     "data": {
      "text/plain": "dtype('float64')"
     },
     "execution_count": 2,
     "metadata": {},
     "output_type": "execute_result"
    }
   ],
   "source": [
    "reviews.price.dtype"
   ],
   "metadata": {
    "collapsed": false,
    "pycharm": {
     "name": "#%%\n"
    }
   }
  },
  {
   "cell_type": "code",
   "execution_count": 4,
   "outputs": [
    {
     "data": {
      "text/plain": "country        object\ndescription    object\n                ...  \nvariety        object\nwinery         object\nLength: 13, dtype: object"
     },
     "execution_count": 4,
     "metadata": {},
     "output_type": "execute_result"
    }
   ],
   "source": [
    "reviews.dtypes"
   ],
   "metadata": {
    "collapsed": false,
    "pycharm": {
     "name": "#%%\n"
    }
   }
  },
  {
   "cell_type": "code",
   "execution_count": 9,
   "outputs": [
    {
     "name": "stdout",
     "output_type": "stream",
     "text": [
      "int64\n"
     ]
    },
    {
     "data": {
      "text/plain": "0         87.0\n1         87.0\n          ... \n129969    90.0\n129970    90.0\nName: points, Length: 129971, dtype: float64"
     },
     "execution_count": 9,
     "metadata": {},
     "output_type": "execute_result"
    }
   ],
   "source": [
    "print(reviews.points.dtype)\n",
    "reviews.points.astype('float64')"
   ],
   "metadata": {
    "collapsed": false,
    "pycharm": {
     "name": "#%%\n"
    }
   }
  },
  {
   "cell_type": "code",
   "execution_count": 10,
   "outputs": [
    {
     "data": {
      "text/plain": "dtype('int64')"
     },
     "execution_count": 10,
     "metadata": {},
     "output_type": "execute_result"
    }
   ],
   "source": [
    "reviews.index.dtype"
   ],
   "metadata": {
    "collapsed": false,
    "pycharm": {
     "name": "#%%\n"
    }
   }
  },
  {
   "cell_type": "code",
   "execution_count": 13,
   "outputs": [
    {
     "data": {
      "text/plain": "       country                                        description  \\\n913        NaN  Amber in color, this wine has aromas of peach ...   \n3131       NaN  Soft, fruity and juicy, this is a pleasant, si...   \n...        ...                                                ...   \n129590     NaN  A blend of 60% Syrah, 30% Cabernet Sauvignon a...   \n129900     NaN  This wine offers a delightful bouquet of black...   \n\n           designation  points  price province region_1 region_2  \\\n913     Asureti Valley      87   30.0      NaN      NaN      NaN   \n3131          Partager      83    NaN      NaN      NaN      NaN   \n...                ...     ...    ...      ...      ...      ...   \n129590            Shah      90   30.0      NaN      NaN      NaN   \n129900             NaN      91   32.0      NaN      NaN      NaN   \n\n          taster_name taster_twitter_handle  \\\n913     Mike DeSimone        @worldwineguys   \n3131       Roger Voss            @vossroger   \n...               ...                   ...   \n129590  Mike DeSimone        @worldwineguys   \n129900  Mike DeSimone        @worldwineguys   \n\n                                                 title    variety  \\\n913     Gotsa Family Wines 2014 Asureti Valley Chinuri    Chinuri   \n3131                 Barton & Guestier NV Partager Red  Red Blend   \n...                                                ...        ...   \n129590                         Büyülübağ 2012 Shah Red  Red Blend   \n129900                              Psagot 2014 Merlot     Merlot   \n\n                    winery  \n913     Gotsa Family Wines  \n3131     Barton & Guestier  \n...                    ...  \n129590           Büyülübağ  \n129900              Psagot  \n\n[63 rows x 13 columns]",
      "text/html": "<div>\n<style scoped>\n    .dataframe tbody tr th:only-of-type {\n        vertical-align: middle;\n    }\n\n    .dataframe tbody tr th {\n        vertical-align: top;\n    }\n\n    .dataframe thead th {\n        text-align: right;\n    }\n</style>\n<table border=\"1\" class=\"dataframe\">\n  <thead>\n    <tr style=\"text-align: right;\">\n      <th></th>\n      <th>country</th>\n      <th>description</th>\n      <th>designation</th>\n      <th>points</th>\n      <th>price</th>\n      <th>province</th>\n      <th>region_1</th>\n      <th>region_2</th>\n      <th>taster_name</th>\n      <th>taster_twitter_handle</th>\n      <th>title</th>\n      <th>variety</th>\n      <th>winery</th>\n    </tr>\n  </thead>\n  <tbody>\n    <tr>\n      <th>913</th>\n      <td>NaN</td>\n      <td>Amber in color, this wine has aromas of peach ...</td>\n      <td>Asureti Valley</td>\n      <td>87</td>\n      <td>30.0</td>\n      <td>NaN</td>\n      <td>NaN</td>\n      <td>NaN</td>\n      <td>Mike DeSimone</td>\n      <td>@worldwineguys</td>\n      <td>Gotsa Family Wines 2014 Asureti Valley Chinuri</td>\n      <td>Chinuri</td>\n      <td>Gotsa Family Wines</td>\n    </tr>\n    <tr>\n      <th>3131</th>\n      <td>NaN</td>\n      <td>Soft, fruity and juicy, this is a pleasant, si...</td>\n      <td>Partager</td>\n      <td>83</td>\n      <td>NaN</td>\n      <td>NaN</td>\n      <td>NaN</td>\n      <td>NaN</td>\n      <td>Roger Voss</td>\n      <td>@vossroger</td>\n      <td>Barton &amp; Guestier NV Partager Red</td>\n      <td>Red Blend</td>\n      <td>Barton &amp; Guestier</td>\n    </tr>\n    <tr>\n      <th>...</th>\n      <td>...</td>\n      <td>...</td>\n      <td>...</td>\n      <td>...</td>\n      <td>...</td>\n      <td>...</td>\n      <td>...</td>\n      <td>...</td>\n      <td>...</td>\n      <td>...</td>\n      <td>...</td>\n      <td>...</td>\n      <td>...</td>\n    </tr>\n    <tr>\n      <th>129590</th>\n      <td>NaN</td>\n      <td>A blend of 60% Syrah, 30% Cabernet Sauvignon a...</td>\n      <td>Shah</td>\n      <td>90</td>\n      <td>30.0</td>\n      <td>NaN</td>\n      <td>NaN</td>\n      <td>NaN</td>\n      <td>Mike DeSimone</td>\n      <td>@worldwineguys</td>\n      <td>Büyülübağ 2012 Shah Red</td>\n      <td>Red Blend</td>\n      <td>Büyülübağ</td>\n    </tr>\n    <tr>\n      <th>129900</th>\n      <td>NaN</td>\n      <td>This wine offers a delightful bouquet of black...</td>\n      <td>NaN</td>\n      <td>91</td>\n      <td>32.0</td>\n      <td>NaN</td>\n      <td>NaN</td>\n      <td>NaN</td>\n      <td>Mike DeSimone</td>\n      <td>@worldwineguys</td>\n      <td>Psagot 2014 Merlot</td>\n      <td>Merlot</td>\n      <td>Psagot</td>\n    </tr>\n  </tbody>\n</table>\n<p>63 rows × 13 columns</p>\n</div>"
     },
     "execution_count": 13,
     "metadata": {},
     "output_type": "execute_result"
    }
   ],
   "source": [
    "reviews[pd.isnull(reviews.country)]"
   ],
   "metadata": {
    "collapsed": false,
    "pycharm": {
     "name": "#%%\n"
    }
   }
  },
  {
   "cell_type": "code",
   "execution_count": 14,
   "outputs": [
    {
     "data": {
      "text/plain": "0         Unknown\n1         Unknown\n           ...   \n129969    Unknown\n129970    Unknown\nName: region_2, Length: 129971, dtype: object"
     },
     "execution_count": 14,
     "metadata": {},
     "output_type": "execute_result"
    }
   ],
   "source": [
    "reviews.region_2.fillna(\"Unknown\")"
   ],
   "metadata": {
    "collapsed": false,
    "pycharm": {
     "name": "#%%\n"
    }
   }
  },
  {
   "cell_type": "code",
   "execution_count": 16,
   "outputs": [
    {
     "data": {
      "text/plain": "0            @kerino\n1         @vossroger\n             ...    \n129969    @vossroger\n129970    @vossroger\nName: taster_twitter_handle, Length: 129971, dtype: object"
     },
     "execution_count": 16,
     "metadata": {},
     "output_type": "execute_result"
    }
   ],
   "source": [
    "reviews.taster_twitter_handle.replace(\"@kerinokeefe\", \"@kerino\")\n"
   ],
   "metadata": {
    "collapsed": false,
    "pycharm": {
     "name": "#%%\n"
    }
   }
  }
 ],
 "metadata": {
  "kernelspec": {
   "display_name": "Python 3",
   "language": "python",
   "name": "python3"
  },
  "language_info": {
   "codemirror_mode": {
    "name": "ipython",
    "version": 2
   },
   "file_extension": ".py",
   "mimetype": "text/x-python",
   "name": "python",
   "nbconvert_exporter": "python",
   "pygments_lexer": "ipython2",
   "version": "2.7.6"
  }
 },
 "nbformat": 4,
 "nbformat_minor": 0
}