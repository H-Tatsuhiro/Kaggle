{
 "cells": [
  {
   "cell_type": "code",
   "execution_count": 13,
   "metadata": {
    "collapsed": true
   },
   "outputs": [],
   "source": [
    "import numpy as np\n",
    "import pandas as pd"
   ]
  },
  {
   "cell_type": "code",
   "execution_count": 14,
   "outputs": [
    {
     "name": "stderr",
     "output_type": "stream",
     "text": [
      "/usr/local/lib/python3.7/site-packages/ipykernel_launcher.py:29: DataConversionWarning: A column-vector y was passed when a 1d array was expected. Please change the shape of y to (n_samples,), for example using ravel().\n"
     ]
    }
   ],
   "source": [
    "df_train = pd.read_csv(\"../dataset/train.csv\")\n",
    "df_train = df_train.loc[:, ['Survived', 'Pclass', 'Sex', 'Age', 'Fare']]\n",
    "df_train = df_train.dropna(subset=['Age']).reset_index(drop=True)\n",
    "\n",
    "from sklearn.preprocessing import LabelEncoder\n",
    "\n",
    "encoder = LabelEncoder()\n",
    "df_train['Sex'] = encoder.fit_transform(df_train['Sex'].values)\n",
    "\n",
    "from sklearn.preprocessing import StandardScaler\n",
    "\n",
    "standard = StandardScaler()\n",
    "df_train_std = pd.DataFrame(standard.fit_transform(df_train.loc[:, ['Age', 'Fare']]), columns=['Age', 'Fare'])\n",
    "\n",
    "df_train['Age'] = df_train_std['Age']\n",
    "df_train['Fare'] = df_train_std['Fare']\n",
    "\n",
    "from sklearn.model_selection import train_test_split\n",
    "\n",
    "x = df_train.loc[:, ['Pclass', 'Sex', 'Age', 'Fare']].values\n",
    "t = df_train.loc[:, ['Survived']].values\n",
    "\n",
    "x_train, x_test, t_train, t_test = train_test_split(x, t, train_size=1)\n",
    "\n",
    "from sklearn.ensemble import RandomForestClassifier\n",
    "\n",
    "model = RandomForestClassifier()\n",
    "\n",
    "model.fit(x_train, t_train)\n",
    "\n",
    "df_test = pd.read_csv('../dataset/test.csv')\n",
    "df_test_index = df_test.loc[:, ['PassengerId']]\n",
    "df_test = df_test.loc[:, ['Pclass', 'Sex', 'Age', 'Fare']]\n",
    "\n",
    "df_test['Sex'] = encoder.fit_transform(df_test['Sex'].values)\n",
    "\n",
    "df_test_std = pd.DataFrame(standard.fit_transform(df_test.loc[:, ['Age', 'Fare']]), columns=['Age', 'Fare'])\n",
    "\n",
    "df_test['Age'] = df_test_std['Age']\n",
    "df_test['Fare'] = df_test_std['Fare']\n",
    "\n",
    "df_test = df_test.fillna({'Age':0, 'Fare':0})\n",
    "\n",
    "test = df_test.values\n",
    "\n",
    "predicted = model.predict(test)\n",
    "\n",
    "submit_note_2 = pd.concat([df_test_index, pd.DataFrame(predicted, columns=['Survived'])], axis=1)\n",
    "\n",
    "submit_note_2.to_csv('../submissions/submit_note_2.csv', index=False)"
   ],
   "metadata": {
    "collapsed": false,
    "pycharm": {
     "name": "#%%\n"
    }
   }
  }
 ],
 "metadata": {
  "kernelspec": {
   "display_name": "Python 3",
   "language": "python",
   "name": "python3"
  },
  "language_info": {
   "codemirror_mode": {
    "name": "ipython",
    "version": 2
   },
   "file_extension": ".py",
   "mimetype": "text/x-python",
   "name": "python",
   "nbconvert_exporter": "python",
   "pygments_lexer": "ipython2",
   "version": "2.7.6"
  }
 },
 "nbformat": 4,
 "nbformat_minor": 0
}